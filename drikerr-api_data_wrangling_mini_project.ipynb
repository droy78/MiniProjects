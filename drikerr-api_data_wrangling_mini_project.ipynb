{
 "cells": [
  {
   "cell_type": "markdown",
   "metadata": {},
   "source": [
    "This exercise will require you to pull some data from the Qunadl API. Qaundl is currently the most widely used aggregator of financial market data."
   ]
  },
  {
   "cell_type": "markdown",
   "metadata": {},
   "source": [
    "As a first step, you will need to register a free account on the http://www.quandl.com website."
   ]
  },
  {
   "cell_type": "markdown",
   "metadata": {},
   "source": [
    "After you register, you will be provided with a unique API key, that you should store:"
   ]
  },
  {
   "cell_type": "code",
   "execution_count": 52,
   "metadata": {
    "collapsed": true
   },
   "outputs": [],
   "source": [
    "# Store the API key as a string - according to PEP8, constants are always named in all upper case\n",
    "API_KEY = 'qzrN_jGFbesbF75EGofV'"
   ]
  },
  {
   "cell_type": "markdown",
   "metadata": {},
   "source": [
    "Qaundl has a large number of data sources, but, unfortunately, most of them require a Premium subscription. Still, there are also a good number of free datasets."
   ]
  },
  {
   "cell_type": "markdown",
   "metadata": {},
   "source": [
    "For this mini project, we will focus on equities data from the Frankfurt Stock Exhange (FSE), which is available for free. We'll try and analyze the stock prices of a company called Carl Zeiss Meditec, which manufactures tools for eye examinations, as well as medical lasers for laser eye surgery: https://www.zeiss.com/meditec/int/home.html. The company is listed under the stock ticker AFX_X."
   ]
  },
  {
   "cell_type": "markdown",
   "metadata": {},
   "source": [
    "You can find the detailed Quandl API instructions here: https://docs.quandl.com/docs/time-series"
   ]
  },
  {
   "cell_type": "markdown",
   "metadata": {},
   "source": [
    "While there is a dedicated Python package for connecting to the Quandl API, we would prefer that you use the *requests* package, which can be easily downloaded using *pip* or *conda*. You can find the documentation for the package here: http://docs.python-requests.org/en/master/ "
   ]
  },
  {
   "cell_type": "markdown",
   "metadata": {},
   "source": [
    "Finally, apart from the *requests* package, you are encouraged to not use any third party Python packages, such as *pandas*, and instead focus on what's available in the Python Standard Library (the *collections* module might come in handy: https://pymotw.com/3/collections/).\n",
    "Also, since you won't have access to DataFrames, you are encouraged to us Python's native data structures - preferably dictionaries, though some questions can also be answered using lists.\n",
    "You can read more on these data structures here: https://docs.python.org/3/tutorial/datastructures.html"
   ]
  },
  {
   "cell_type": "markdown",
   "metadata": {},
   "source": [
    "Keep in mind that the JSON responses you will be getting from the API map almost one-to-one to Python's dictionaries. Unfortunately, they can be very nested, so make sure you read up on indexing dictionaries in the documentation provided above."
   ]
  },
  {
   "cell_type": "code",
   "execution_count": 53,
   "metadata": {
    "collapsed": true
   },
   "outputs": [],
   "source": [
    "# First, import the relevant modules\n",
    "import requests\n"
   ]
  },
  {
   "cell_type": "code",
   "execution_count": 86,
   "metadata": {},
   "outputs": [
    {
     "name": "stdout",
     "output_type": "stream",
     "text": [
      "https://www.quandl.com/api/v3/datasets/FSE/AFX_X/data.json?api_key=qzrN_jGFbesbF75EGofV&start_date='2017-01-02'&end_date='2017-01-02'\n",
      "<Response [200]>\n"
     ]
    }
   ],
   "source": [
    "# Now, call the Quandl API and pull out a small sample of the data (only one day) to get a glimpse\n",
    "# into the JSON structure that will be returned\n",
    "response = requests.get(\"https://www.quandl.com/api/v3/datasets/FSE/AFX_X/data.json?api_key=\" + API_KEY + \"&start_date='2017-01-02'&end_date='2017-01-02'\")\n",
    "print(response.url)\n",
    "print(response)"
   ]
  },
  {
   "cell_type": "code",
   "execution_count": 89,
   "metadata": {},
   "outputs": [
    {
     "name": "stdout",
     "output_type": "stream",
     "text": [
      "<class 'dict'>\n",
      "{'dataset_data': {'limit': None, 'transform': None, 'column_index': None, 'column_names': ['Date', 'Open', 'High', 'Low', 'Close', 'Change', 'Traded Volume', 'Turnover', 'Last Price of the Day', 'Daily Traded Units', 'Daily Turnover'], 'start_date': '2017-01-02', 'end_date': '2017-01-02', 'frequency': 'daily', 'data': [['2017-01-02', 34.99, 35.94, 34.99, 35.8, None, 44700.0, 1590561.0, None, None, None]], 'collapse': None, 'order': None}}\n"
     ]
    }
   ],
   "source": [
    "# Inspect the JSON structure of the object you created, and take note of how nested it is,\n",
    "# as well as the overall structure\n",
    "json = response.json()\n",
    "print(type(json))\n",
    "print(json)\n",
    "\n",
    "\n",
    "\n",
    "\n",
    "\n",
    "\n"
   ]
  },
  {
   "cell_type": "markdown",
   "metadata": {},
   "source": [
    "These are your tasks for this mini project:\n",
    "\n",
    "1. Collect data from the Franfurt Stock Exchange, for the ticker AFX_X, for the whole year 2017 (keep in mind that the date format is YYYY-MM-DD).\n",
    "2. Convert the returned JSON object into a Python dictionary.\n",
    "3. Calculate what the highest and lowest opening prices were for the stock in this period.\n",
    "4. What was the largest change in any one day (based on High and Low price)?\n",
    "5. What was the largest change between any two days (based on Closing Price)?\n",
    "6. What was the average daily trading volume during this year?\n",
    "7. (Optional) What was the median trading volume during this year. (Note: you may need to implement your own function for calculating the median.)"
   ]
  },
  {
   "cell_type": "code",
   "execution_count": 101,
   "metadata": {},
   "outputs": [
    {
     "name": "stdout",
     "output_type": "stream",
     "text": [
      "https://www.quandl.com/api/v3/datasets/FSE/AFX_X/data.json?api_key=qzrN_jGFbesbF75EGofV&start_date='2017-01-01'&end_date='2017-12-31'\n",
      "Sample Size : 255\n",
      "\n",
      "Highest Open price : ('2017-12-14', 53.11) Lowest Open price : ('2017-01-24', 34.0)\n",
      "Largest Change in any one day : ('2017-05-11', 2.8100000000000023)\n",
      "Largest change between any two days : ('2017-08-09', 2.559999999999995)\n",
      "Average Trading Volume : 89124.33725490196\n"
     ]
    }
   ],
   "source": [
    "response = requests.get(\"https://www.quandl.com/api/v3/datasets/FSE/AFX_X/data.json?api_key=\" + API_KEY + \"&start_date='2017-01-01'&end_date='2017-12-31'\")\n",
    "print(response.url)\n",
    "json = response.json()\n",
    "\n",
    "sample_size = len(json['dataset_data']['data'])\n",
    "print(\"Sample Size : \" + str(sample_size))\n",
    "open_prices = {}\n",
    "largest_change_oneday = {}\n",
    "largest_change_twoday = {}\n",
    "total_volume = 0\n",
    "\n",
    "for i in range(0, sample_size) :\n",
    "    #creating open_prices dictionary -> open_prices[date] = Open Value\n",
    "    open_prices[json['dataset_data']['data'][i][0]] = json['dataset_data']['data'][i][1]\n",
    "    \n",
    "    #creating largest_change_oneday dictionary -> largest_change_oneday[date] = abs(High Value - Low Value)\n",
    "    largest_change_oneday[json['dataset_data']['data'][i][0]] = abs(json['dataset_data']['data'][i][2] - json['dataset_data']['data'][i][3])\n",
    "    \n",
    "    #creating largest_change_twoday dictionary -> largest_change_twoday[date] = abs(Close Value - previous Close Value)\n",
    "    largest_change_twoday[json['dataset_data']['data'][i][0]] = abs(json['dataset_data']['data'][i][4] - (json['dataset_data']['data'][i + 1][4] if i < sample_size - 1 else json['dataset_data']['data'][i][4]) )\n",
    "    total_volume += json['dataset_data']['data'][i][6]\n",
    "\n",
    "#removing None values from the open_prices dictionary\n",
    "open_prices = {k: v for k, v in open_prices.items() if v is not None}\n",
    "\n",
    "#sorting the dictionaries on the values \n",
    "open_prices = sorted(open_prices.items(), key=lambda x: x[1])\n",
    "largest_change_oneday = sorted(largest_change_oneday.items(), key=lambda x: x[1])\n",
    "largest_change_twoday = sorted(largest_change_twoday.items(), key=lambda x: x[1])\n",
    "\n",
    "\n",
    "print(\"\\nHighest Open price : \" + str(open_prices[-1]) + \" Lowest Open price : \" + str(open_prices[0]))\n",
    "print(\"Largest Change in any one day : \" + str(largest_change_oneday[-1]))\n",
    "print(\"Largest change between any two days : \" + str(largest_change_twoday[-1]))\n",
    "print(\"Average Trading Volume : \" + str(total_volume / len(json['dataset_data']['data'])))"
   ]
  },
  {
   "cell_type": "code",
   "execution_count": null,
   "metadata": {
    "collapsed": true
   },
   "outputs": [],
   "source": []
  }
 ],
 "metadata": {
  "kernelspec": {
   "display_name": "Python 3",
   "language": "python",
   "name": "python3"
  },
  "language_info": {
   "codemirror_mode": {
    "name": "ipython",
    "version": 3
   },
   "file_extension": ".py",
   "mimetype": "text/x-python",
   "name": "python",
   "nbconvert_exporter": "python",
   "pygments_lexer": "ipython3",
   "version": "3.6.2"
  }
 },
 "nbformat": 4,
 "nbformat_minor": 2
}
